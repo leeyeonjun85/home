{
 "cells": [
  {
   "attachments": {},
   "cell_type": "markdown",
   "metadata": {},
   "source": [
    "# 😀 SQL vs Pandas 비교하기 👍"
   ]
  },
  {
   "cell_type": "code",
   "execution_count": 18,
   "metadata": {},
   "outputs": [
    {
     "name": "stdout",
     "output_type": "stream",
     "text": [
      "✅ 불러온 데이터 상위 5개 데이터 보기\n",
      "   total_bill   tip     sex smoker  day    time  size\n",
      "0       16.99  1.01  Female     No  Sun  Dinner     2\n",
      "1       10.34  1.66    Male     No  Sun  Dinner     3\n",
      "2       21.01  3.50    Male     No  Sun  Dinner     3\n",
      "3       23.68  3.31    Male     No  Sun  Dinner     2\n",
      "4       24.59  3.61  Female     No  Sun  Dinner     4\n"
     ]
    }
   ],
   "source": [
    "import pandas as pd\n",
    "import numpy as np\n",
    "\n",
    "url = \"https://raw.github.com/pandas-dev/pandas/master/pandas/tests/io/data/csv/tips.csv\"\n",
    "tips = pd.read_csv(url)\n",
    "print(f\"✅ 불러온 데이터 상위 5개 데이터 보기\")\n",
    "print(tips.head(5))"
   ]
  },
  {
   "cell_type": "code",
   "execution_count": 19,
   "metadata": {},
   "outputs": [
    {
     "name": "stdout",
     "output_type": "stream",
     "text": [
      "✅ SELECT\n",
      "     total_bill   tip smoker    time\n",
      "0         16.99  1.01     No  Dinner\n",
      "1         10.34  1.66     No  Dinner\n",
      "2         21.01  3.50     No  Dinner\n",
      "3         23.68  3.31     No  Dinner\n",
      "4         24.59  3.61     No  Dinner\n",
      "..          ...   ...    ...     ...\n",
      "239       29.03  5.92     No  Dinner\n",
      "240       27.18  2.00    Yes  Dinner\n",
      "241       22.67  2.00    Yes  Dinner\n",
      "242       17.82  1.75     No  Dinner\n",
      "243       18.78  3.00     No  Dinner\n",
      "\n",
      "[244 rows x 4 columns]\n"
     ]
    }
   ],
   "source": [
    "print(f\"✅ SELECT\")\n",
    "print(tips[[\"total_bill\", \"tip\", \"smoker\", \"time\"]])\n",
    "# SELECT total_bill, tip, smoker, time\n",
    "# FROM tips;"
   ]
  },
  {
   "cell_type": "code",
   "execution_count": 20,
   "metadata": {},
   "outputs": [
    {
     "name": "stdout",
     "output_type": "stream",
     "text": [
      "✅ LIMIT\n",
      "   total_bill   tip     sex smoker  day    time  size\n",
      "0       16.99  1.01  Female     No  Sun  Dinner     2\n",
      "1       10.34  1.66    Male     No  Sun  Dinner     3\n",
      "2       21.01  3.50    Male     No  Sun  Dinner     3\n",
      "3       23.68  3.31    Male     No  Sun  Dinner     2\n",
      "4       24.59  3.61  Female     No  Sun  Dinner     4\n",
      "5       25.29  4.71    Male     No  Sun  Dinner     4\n",
      "6        8.77  2.00    Male     No  Sun  Dinner     2\n",
      "7       26.88  3.12    Male     No  Sun  Dinner     4\n",
      "8       15.04  1.96    Male     No  Sun  Dinner     2\n",
      "9       14.78  3.23    Male     No  Sun  Dinner     2\n"
     ]
    }
   ],
   "source": [
    "print(f\"✅ LIMIT\")\n",
    "print(tips.head(10))\n",
    "# SELECT *\n",
    "# FROM tips\n",
    "# LIMIT 10;"
   ]
  },
  {
   "cell_type": "code",
   "execution_count": 21,
   "metadata": {},
   "outputs": [
    {
     "name": "stdout",
     "output_type": "stream",
     "text": [
      "✅ LIMIT OFFSET\n",
      "   total_bill   tip     sex smoker  day    time  size\n",
      "3       23.68  3.31    Male     No  Sun  Dinner     2\n",
      "4       24.59  3.61  Female     No  Sun  Dinner     4\n",
      "5       25.29  4.71    Male     No  Sun  Dinner     4\n",
      "6        8.77  2.00    Male     No  Sun  Dinner     2\n",
      "7       26.88  3.12    Male     No  Sun  Dinner     4\n"
     ]
    }
   ],
   "source": [
    "print(f\"✅ LIMIT OFFSET\")\n",
    "print(tips.iloc[3:8, :])\n",
    "# SELECT *\n",
    "# FROM tips\n",
    "# LIMIT 5 OFFSET 3;"
   ]
  },
  {
   "cell_type": "code",
   "execution_count": 22,
   "metadata": {},
   "outputs": [
    {
     "name": "stdout",
     "output_type": "stream",
     "text": [
      "✅ UNIQUE\n",
      "['Sun' 'Sat' 'Thur' 'Fri']\n",
      "4\n"
     ]
    }
   ],
   "source": [
    "print(f\"✅ UNIQUE\")\n",
    "print(tips.day.unique())\n",
    "# SELECT DISTINCT day\n",
    "# FROM tips;\n",
    "\n",
    "print(tips.day.nunique())\n",
    "# SELECT COUNT(DISTINCT day)\n",
    "# FROM tips;"
   ]
  },
  {
   "cell_type": "code",
   "execution_count": 23,
   "metadata": {},
   "outputs": [
    {
     "name": "stdout",
     "output_type": "stream",
     "text": [
      "✅ WHERE\n",
      "     tip smoker\n",
      "0   1.01     No\n",
      "4   3.61     No\n",
      "11  5.00     No\n",
      "14  3.02     No\n",
      "16  1.67     No\n",
      "Empty DataFrame\n",
      "Columns: [total_bill, tip, sex, smoker, day, time, size]\n",
      "Index: []\n",
      "     total_bill    tip     sex smoker   day    time  size\n",
      "59        48.27   6.73    Male     No   Sat  Dinner     4\n",
      "125       29.80   4.20  Female     No  Thur   Lunch     6\n",
      "141       34.30   6.70    Male     No  Thur   Lunch     6\n",
      "142       41.19   5.00    Male     No  Thur   Lunch     5\n",
      "143       27.05   5.00  Female     No  Thur   Lunch     6\n",
      "155       29.85   5.14  Female     No   Sun  Dinner     5\n",
      "156       48.17   5.00    Male     No   Sun  Dinner     6\n",
      "170       50.81  10.00    Male    Yes   Sat  Dinner     3\n",
      "182       45.35   3.50    Male    Yes   Sun  Dinner     3\n",
      "185       20.69   5.00    Male     No   Sun  Dinner     5\n",
      "187       30.46   2.00    Male    Yes   Sun  Dinner     5\n",
      "212       48.33   9.00    Male     No   Sat  Dinner     4\n",
      "216       28.15   3.00    Male    Yes   Sat  Dinner     5\n"
     ]
    }
   ],
   "source": [
    "print(f\"✅ WHERE\")\n",
    "print(tips[tips.sex ==  \"Female\"][[\"tip\", \"smoker\"]][:5])\n",
    "# SELECT tip, smoker\n",
    "# FROM tips\n",
    "# WHERE sex = 'Female'\n",
    "# LIMIT 5; \n",
    "\n",
    "print(tips[(tips[\"time\"] == \"Diner\") & (tips[\"tip\"] > 5.00)])\n",
    "# SELECT *\n",
    "# FROM tips\n",
    "# WHERE time = 'Dinner' AND tip > 5.00;\n",
    "\n",
    "print(tips[(tips[\"size\"] >= 5) | (tips[\"total_bill\"] > 45)])\n",
    "# SELECT *\n",
    "# FROM tips\n",
    "# WHERE size >= 5 OR total_bill > 45;"
   ]
  },
  {
   "cell_type": "code",
   "execution_count": 24,
   "metadata": {},
   "outputs": [
    {
     "name": "stdout",
     "output_type": "stream",
     "text": [
      "✅ DIVISION\n",
      "0      0.059447\n",
      "1      0.160542\n",
      "2      0.166587\n",
      "3      0.139780\n",
      "4      0.146808\n",
      "         ...   \n",
      "239    0.203927\n",
      "240    0.073584\n",
      "241    0.088222\n",
      "242    0.098204\n",
      "243    0.159744\n",
      "Name: tip_rate, Length: 244, dtype: float64\n"
     ]
    }
   ],
   "source": [
    "print(f\"✅ DIVISION\")\n",
    "tips[\"tip_rate\"] = tips[\"tip\"] / tips[\"total_bill\"]\n",
    "print(tips[\"tip_rate\"])\n",
    "# SELECT tip/total_bill AS tip_rate\n",
    "# FROM tips;"
   ]
  },
  {
   "cell_type": "code",
   "execution_count": 25,
   "metadata": {},
   "outputs": [
    {
     "name": "stdout",
     "output_type": "stream",
     "text": [
      "✅ VALUE COUNTS\n",
      "Sat     87\n",
      "Sun     76\n",
      "Thur    62\n",
      "Fri     19\n",
      "Name: day, dtype: int64\n"
     ]
    }
   ],
   "source": [
    "print(f\"✅ VALUE COUNTS\")\n",
    "print(tips.day.value_counts())\n",
    "# SELECT day, COUNT(day) AS 'count'\n",
    "# FROM tips\n",
    "# GROUP BY day;"
   ]
  },
  {
   "cell_type": "code",
   "execution_count": 26,
   "metadata": {},
   "outputs": [
    {
     "name": "stdout",
     "output_type": "stream",
     "text": [
      "✅ GROUP BY\n",
      "        total_bill  tip  smoker  day  time  size  tip_rate\n",
      "sex                                                       \n",
      "Female          87   87      87   87    87    87        87\n",
      "Male           157  157     157  157   157   157       157\n",
      "           tip  day\n",
      "day                \n",
      "Fri   2.734737   19\n",
      "Sat   2.993103   87\n",
      "Sun   3.255132   76\n",
      "Thur  2.771452   62\n"
     ]
    }
   ],
   "source": [
    "print(f\"✅ GROUP BY\")\n",
    "print(tips.groupby('sex').count())\n",
    "# SELECT sex, COUNT(*)\n",
    "# FROM tips\n",
    "# GROUP BY sex;\n",
    "\n",
    "print(tips.groupby(\"day\").agg({\"tip\": np.mean, \"day\": np.size}))\n",
    "# SELECT day, AVG(tip), COUNT(*)\n",
    "# FROM tips\n",
    "# GROUP BY day;\n",
    "\n",
    "# print(tips.groupby([\"smoker\", \"day\"].agg({\"tips\" : [np.size, np.mean]})))\n",
    "# SELECT smoker, day, COUNT(*), AVG(tip)\n",
    "# FROM tips\n",
    "# GROUP BY smoker, day;"
   ]
  },
  {
   "cell_type": "code",
   "execution_count": 27,
   "metadata": {},
   "outputs": [
    {
     "name": "stdout",
     "output_type": "stream",
     "text": [
      "✅ Null Value\n",
      "  col1 col2\n",
      "0    A    F\n",
      "1    B  NaN\n",
      "2  NaN    G\n",
      "3    C    H\n",
      "4    D    I\n",
      "  col1 col2\n",
      "1    B  NaN\n",
      "  col1 col2\n",
      "0    A    F\n",
      "1    B  NaN\n",
      "3    C    H\n",
      "4    D    I\n"
     ]
    }
   ],
   "source": [
    "print(f\"✅ Null Value\")\n",
    "frame = pd.DataFrame({\"col1\": [\"A\", \"B\", np.NaN, \"C\", \"D\"], \"col2\": [\"F\", np.NaN, \"G\", \"H\", \"I\"]})\n",
    "print(frame)\n",
    "print(frame[frame[\"col2\"].isna()])\n",
    "# SELECT *\n",
    "# FROM frame\n",
    "# WHERE col2 IS NULL;\n",
    "\n",
    "print(frame[frame[\"col1\"].notna()])\n",
    "# SELECT *\n",
    "# FROM frame\n",
    "# WHERE col1 IS NOT NULL;"
   ]
  },
  {
   "cell_type": "code",
   "execution_count": 28,
   "metadata": {},
   "outputs": [
    {
     "name": "stdout",
     "output_type": "stream",
     "text": [
      "✅ JOIN\n",
      "  key     value\n",
      "0   A  0.067947\n",
      "1   B  0.009033\n",
      "2   C -0.000758\n",
      "3   D  0.842633\n",
      "  key     value\n",
      "0   B  0.357607\n",
      "1   D -0.467728\n",
      "2   D -1.565625\n",
      "3   E -0.911250\n"
     ]
    }
   ],
   "source": [
    "print(f\"✅ JOIN\")\n",
    "df1 = pd.DataFrame({\"key\": [\"A\", \"B\", \"C\", \"D\"], \"value\": np.random.randn(4)})\n",
    "print(df1)\n",
    "df2 = pd.DataFrame({\"key\": [\"B\", \"D\", \"D\", \"E\"], \"value\": np.random.randn(4)})\n",
    "print(df2)"
   ]
  },
  {
   "cell_type": "code",
   "execution_count": 29,
   "metadata": {},
   "outputs": [
    {
     "name": "stdout",
     "output_type": "stream",
     "text": [
      "✅ INNER JOIN\n",
      "  key   value_x   value_y\n",
      "0   B  0.009033  0.357607\n",
      "1   D  0.842633 -0.467728\n",
      "2   D  0.842633 -1.565625\n"
     ]
    }
   ],
   "source": [
    "print(f\"✅ INNER JOIN\")\n",
    "print(pd.merge(df1, df2, on=\"key\"))\n",
    "# SELECT * \n",
    "# FROM df1\n",
    "# INNER JOIN df2 \n",
    "# ON df1.key = df2.key;"
   ]
  },
  {
   "cell_type": "code",
   "execution_count": 30,
   "metadata": {},
   "outputs": [
    {
     "name": "stdout",
     "output_type": "stream",
     "text": [
      "✅ LEFT JOIN\n",
      "  key   value_x   value_y\n",
      "0   A  0.067947       NaN\n",
      "1   B  0.009033  0.357607\n",
      "2   C -0.000758       NaN\n",
      "3   D  0.842633 -0.467728\n",
      "4   D  0.842633 -1.565625\n",
      "✅ OUTER JOIN\n",
      "  key   value_x   value_y\n",
      "0   A  0.067947       NaN\n",
      "1   B  0.009033  0.357607\n",
      "2   C -0.000758       NaN\n",
      "3   D  0.842633 -0.467728\n",
      "4   D  0.842633 -1.565625\n",
      "5   E       NaN -0.911250\n"
     ]
    }
   ],
   "source": [
    "print(f\"✅ LEFT JOIN\")\n",
    "print(pd.merge(df1, df2, on=\"key\", how=\"left\"))\n",
    "# SELECT * \n",
    "# FROM df1\n",
    "# LEFT OUTER JOIN df2\n",
    "# ON df1.key= df2.key;\n",
    "\n",
    "print(f\"✅ OUTER JOIN\")\n",
    "print(pd.merge(df1, df2, on=\"key\", how=\"outer\"))\n",
    "# SELECT * \n",
    "# FROM df1\n",
    "# FULL OUTER JOIN df2\n",
    "# ON df1.key = df2.key;"
   ]
  },
  {
   "cell_type": "code",
   "execution_count": 31,
   "metadata": {},
   "outputs": [
    {
     "name": "stdout",
     "output_type": "stream",
     "text": [
      "✅ CONCAT\n",
      "            city  rank\n",
      "0        Chicago     1\n",
      "1  San Francisco     2\n",
      "2  New York City     3\n",
      "          city  rank\n",
      "0      Chicago     1\n",
      "1       Boston     4\n",
      "2  Los Angeles     5\n",
      "            city  rank\n",
      "0        Chicago     1\n",
      "1  San Francisco     2\n",
      "2  New York City     3\n",
      "0        Chicago     1\n",
      "1         Boston     4\n",
      "2    Los Angeles     5\n",
      "            city  rank\n",
      "0        Chicago     1\n",
      "1  San Francisco     2\n",
      "2  New York City     3\n",
      "1         Boston     4\n",
      "2    Los Angeles     5\n"
     ]
    }
   ],
   "source": [
    "print(f\"✅ CONCAT\")\n",
    "df1 = pd.DataFrame({\"city\": [\"Chicago\", \"San Francisco\", \"New York City\"], \"rank\": range(1, 4)})\n",
    "print(df1)\n",
    "df2 = pd.DataFrame({\"city\": [\"Chicago\", \"Boston\", \"Los Angeles\"], \"rank\": [1, 4, 5]})\n",
    "print(df2)\n",
    "print(pd.concat([df1, df2]))\n",
    "# SELECT city, rank\n",
    "# FROM df1\n",
    "# UNION ALL\n",
    "# SELECT city, rank\n",
    "# FROM df2\n",
    "\n",
    "print(pd.concat([df1, df2]).drop_duplicates())\n",
    "# SELECT city, rank\n",
    "# FROM df1\n",
    "# UNION\n",
    "# SELECT city, rank\n",
    "# FROM df2;"
   ]
  }
 ],
 "metadata": {
  "kernelspec": {
   "display_name": "practice",
   "language": "python",
   "name": "python3"
  },
  "language_info": {
   "codemirror_mode": {
    "name": "ipython",
    "version": 3
   },
   "file_extension": ".py",
   "mimetype": "text/x-python",
   "name": "python",
   "nbconvert_exporter": "python",
   "pygments_lexer": "ipython3",
   "version": "3.8.16"
  },
  "orig_nbformat": 4
 },
 "nbformat": 4,
 "nbformat_minor": 2
}
